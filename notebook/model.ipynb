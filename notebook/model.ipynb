{
 "cells": [
  {
   "cell_type": "code",
   "execution_count": 2,
   "metadata": {},
   "outputs": [],
   "source": [
    "import torch\n",
    "import torch.nn as nn\n",
    "import torch.nn.functional as F\n",
    "import torchvision.transforms.functional as TF"
   ]
  },
  {
   "cell_type": "code",
   "execution_count": 3,
   "metadata": {},
   "outputs": [],
   "source": [
    "class DoubleConv(nn.Module):\n",
    "    def __init__(self, in_channels, out_channels):\n",
    "        super(DoubleConv, self).__init__()\n",
    "        self.conv = nn.Sequential(\n",
    "            nn.Conv2d(in_channels, out_channels, kernel_size=3,stride=1, padding=1, bias=False),\n",
    "            nn.BatchNorm2d(out_channels),\n",
    "            nn.ReLU(inplace=True),\n",
    "            nn.Conv2d(out_channels, out_channels, kernel_size=3, stride=1, padding=1, bias=False),\n",
    "            nn.BatchNorm2d(out_channels),\n",
    "            nn.ReLU(inplace=True)\n",
    "        )\n",
    "\n",
    "    def forward(self, x):\n",
    "        return self.conv(x)\n"
   ]
  },
  {
   "cell_type": "code",
   "execution_count": 23,
   "metadata": {},
   "outputs": [],
   "source": [
    "class UNET(nn.Module):\n",
    "    def __init__(self, in_channels=3, out_channels=3):\n",
    "        super(UNET, self).__init__()\n",
    "        self.conv1 = DoubleConv(in_channels, 64)\n",
    "        self.conv2 = DoubleConv(64, 128)\n",
    "        self.conv3 = DoubleConv(128, 256)\n",
    "        self.conv4 = DoubleConv(256, 512)\n",
    "        self.conv5 = DoubleConv(512, 1024)\n",
    "\n",
    "        self.maxpool = nn.MaxPool2d(kernel_size=2, stride=2)\n",
    "\n",
    "        self.conv6 = DoubleConv(1024, 512)\n",
    "        self.conv7 = DoubleConv(512, 256)\n",
    "        self.conv8 = DoubleConv(256, 128)\n",
    "        self.conv9 = DoubleConv(128, 64)\n",
    "\n",
    "        self.tconv1 = nn.ConvTranspose2d(1024, 512, kernel_size=2, stride=2)\n",
    "        self.tconv2 = nn.ConvTranspose2d(512, 256, kernel_size=2, stride=2)\n",
    "        self.tconv3 = nn.ConvTranspose2d(256, 128, kernel_size=2, stride=2)\n",
    "        self.tconv4 = nn.ConvTranspose2d(128, 64, kernel_size=2, stride=2)\n",
    "\n",
    "        self.bottleneck = DoubleConv(1024, 1024)\n",
    "        self.out = nn.Conv2d(64, out_channels, kernel_size=1)\n",
    "\n",
    "    def forward(self, x):\n",
    "        skip_connections = []\n",
    "        c1 = self.conv1(x)\n",
    "        skip_connections.append(c1)\n",
    "        c2 = self.conv2(self.maxpool(c1))\n",
    "        skip_connections.append(c2)\n",
    "        c3 = self.conv3(self.maxpool(c2))\n",
    "        skip_connections.append(c3)\n",
    "        c4 = self.conv4(self.maxpool(c3))\n",
    "        skip_connections.append(c4)\n",
    "        out = self.conv5(self.maxpool(c4))\n",
    "        out = self.bottleneck(out)\n",
    "        skip_connections = skip_connections[::-1]\n",
    "        out = self.tconv1(out)\n",
    "        if out.shape != skip_connections[0].shape:\n",
    "            out = TF.resize(out, size=skip_connections[0].shape[2:])\n",
    "        out = torch.cat([out, skip_connections[0]], dim=1)\n",
    "        out = self.conv6(out)\n",
    "\n",
    "        out = self.tconv2(out)\n",
    "        if out.shape != skip_connections[1].shape:\n",
    "            out = TF.resize(out, size=skip_connections[1].shape[2:])\n",
    "        out = torch.cat((out, skip_connections[1]), dim=1)\n",
    "        out = self.conv7(out)\n",
    "\n",
    "        out = self.tconv3(out)\n",
    "        if out.shape != skip_connections[2].shape:\n",
    "            out = TF.resize(out, size=skip_connections[2].shape[2:])\n",
    "        out = torch.cat((out, skip_connections[2]), dim=1)\n",
    "        out = self.conv8(out)\n",
    "\n",
    "        out = self.tconv4(out)\n",
    "        if out.shape != skip_connections[3].shape:\n",
    "            out = TF.resize(out, size=skip_connections[3].shape[2:])\n",
    "        out = torch.cat((out, skip_connections[3]), dim=1)\n",
    "        out = self.conv9(out)\n",
    "\n",
    "        out = self.out(out)\n",
    "        return out\n",
    "    \n",
    "\n",
    "\n"
   ]
  },
  {
   "cell_type": "code",
   "execution_count": 26,
   "metadata": {},
   "outputs": [],
   "source": [
    "def test():\n",
    "    x = torch.randn((5, 3, 161, 161))\n",
    "    model = UNET(in_channels=3, out_channels=3)\n",
    "    preds = model(x)\n",
    "    print(preds.shape)\n",
    "    print(x.shape)\n",
    "    assert preds.shape == x.shape"
   ]
  },
  {
   "cell_type": "code",
   "execution_count": 27,
   "metadata": {},
   "outputs": [
    {
     "name": "stdout",
     "output_type": "stream",
     "text": [
      "torch.Size([5, 3, 161, 161])\n",
      "torch.Size([5, 3, 161, 161])\n"
     ]
    }
   ],
   "source": [
    "test()"
   ]
  },
  {
   "cell_type": "code",
   "execution_count": null,
   "metadata": {},
   "outputs": [
    {
     "name": "stdout",
     "output_type": "stream",
     "text": [
      "torch.Size([32, 6, 161, 161])\n"
     ]
    }
   ],
   "source": [
    "a= torch.rand(32, 3, 161, 161)\n",
    "b = torch.rand(32, 3, 161, 161)\n",
    "c = torch.cat([a,b],dim=1)\n",
    "print(c.shape)\n"
   ]
  },
  {
   "cell_type": "code",
   "execution_count": null,
   "metadata": {},
   "outputs": [],
   "source": []
  }
 ],
 "metadata": {
  "kernelspec": {
   "display_name": "base",
   "language": "python",
   "name": "python3"
  },
  "language_info": {
   "codemirror_mode": {
    "name": "ipython",
    "version": 3
   },
   "file_extension": ".py",
   "mimetype": "text/x-python",
   "name": "python",
   "nbconvert_exporter": "python",
   "pygments_lexer": "ipython3",
   "version": "3.10.11"
  },
  "orig_nbformat": 4
 },
 "nbformat": 4,
 "nbformat_minor": 2
}
