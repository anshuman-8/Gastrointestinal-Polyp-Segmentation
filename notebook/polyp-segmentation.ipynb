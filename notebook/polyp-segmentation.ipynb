{
 "cells": [
  {
   "cell_type": "code",
   "execution_count": 7,
   "metadata": {},
   "outputs": [],
   "source": [
    "import torch\n",
    "import pandas as pd\n",
    "import numpy as np\n",
    "import torch.nn as nn\n",
    "import torch.optim as optim\n",
    "from torchvision import transforms\n",
    "from torch.utils.data import Dataset\n",
    "from torchvision.utils import make_grid\n",
    "from torch.utils.data import DataLoader, Dataset\n",
    "from torch.utils.tensorboard import SummaryWriter\n",
    "import torchvision.transforms.functional as TF\n",
    "\n",
    "import os\n",
    "from tqdm import tqdm\n",
    "from PIL import Image\n",
    "import matplotlib.pyplot as plt\n",
    "%matplotlib inline"
   ]
  },
  {
   "cell_type": "code",
   "execution_count": 8,
   "metadata": {},
   "outputs": [
    {
     "name": "stdout",
     "output_type": "stream",
     "text": [
      "cuda\n"
     ]
    }
   ],
   "source": [
    "DEVICE = \"cuda\" if torch.cuda.is_available() else \"cpu\"\n",
    "print(DEVICE)"
   ]
  },
  {
   "cell_type": "markdown",
   "metadata": {},
   "source": [
    "## Hyperparameters"
   ]
  },
  {
   "cell_type": "code",
   "execution_count": 9,
   "metadata": {},
   "outputs": [],
   "source": [
    "EPOCHS = 100\n",
    "BATCH_SIZE = 32\n",
    "LEARNING_RATE = 0.001\n",
    "NUM_WORKERS = 4\n",
    "\n",
    "LOAD_MODEL = False\n",
    "SAVE_MODEL = True\n",
    "CHECKPOINT_FILE = \"checkpoint-test.pth\"\n",
    "\n",
    "IMAGE_HEIGHT = 256\n",
    "IMAGE_WIDTH = 256\n",
    "IMAGE_CHANNELS = 3\n",
    "\n",
    "\n"
   ]
  },
  {
   "cell_type": "markdown",
   "metadata": {},
   "source": [
    "## Model Architecture"
   ]
  },
  {
   "cell_type": "code",
   "execution_count": 10,
   "metadata": {},
   "outputs": [],
   "source": [
    "class DoubleConv(nn.Module):\n",
    "    def __init__(self, in_channels, out_channels):\n",
    "        super(DoubleConv, self).__init__()\n",
    "        self.conv = nn.Sequential(\n",
    "            nn.Conv2d(in_channels, out_channels, kernel_size=3,stride=1, padding=1, bias=False),\n",
    "            nn.BatchNorm2d(out_channels),\n",
    "            nn.ReLU(inplace=True),\n",
    "            nn.Conv2d(out_channels, out_channels, kernel_size=3, stride=1, padding=1, bias=False),\n",
    "            nn.BatchNorm2d(out_channels),\n",
    "            nn.ReLU(inplace=True)\n",
    "        )\n",
    "\n",
    "    def forward(self, x):\n",
    "        return self.conv(x)\n"
   ]
  },
  {
   "cell_type": "code",
   "execution_count": 11,
   "metadata": {},
   "outputs": [],
   "source": [
    "class UNET(nn.Module):\n",
    "    def __init__(self, in_channels=IMAGE_CHANNELS, out_channels=IMAGE_CHANNELS):\n",
    "        super(UNET, self).__init__()\n",
    "        self.conv1 = DoubleConv(in_channels, 64)\n",
    "        self.conv2 = DoubleConv(64, 128)\n",
    "        self.conv3 = DoubleConv(128, 256)\n",
    "        self.conv4 = DoubleConv(256, 512)\n",
    "        self.conv5 = DoubleConv(512, 1024)\n",
    "\n",
    "        self.maxpool = nn.MaxPool2d(kernel_size=2, stride=2)\n",
    "\n",
    "        self.conv6 = DoubleConv(1024, 512)\n",
    "        self.conv7 = DoubleConv(512, 256)\n",
    "        self.conv8 = DoubleConv(256, 128)\n",
    "        self.conv9 = DoubleConv(128, 64)\n",
    "\n",
    "        self.tconv1 = nn.ConvTranspose2d(1024, 512, kernel_size=2, stride=2)\n",
    "        self.tconv2 = nn.ConvTranspose2d(512, 256, kernel_size=2, stride=2)\n",
    "        self.tconv3 = nn.ConvTranspose2d(256, 128, kernel_size=2, stride=2)\n",
    "        self.tconv4 = nn.ConvTranspose2d(128, 64, kernel_size=2, stride=2)\n",
    "\n",
    "        self.bottleneck = DoubleConv(1024, 1024)\n",
    "        self.out = nn.Conv2d(64, out_channels, kernel_size=1)\n",
    "\n",
    "    def forward(self, x):\n",
    "        skip_connections = []\n",
    "        c1 = self.conv1(x)\n",
    "        skip_connections.append(c1)\n",
    "        c2 = self.conv2(self.maxpool(c1))\n",
    "        skip_connections.append(c2)\n",
    "        c3 = self.conv3(self.maxpool(c2))\n",
    "        skip_connections.append(c3)\n",
    "        c4 = self.conv4(self.maxpool(c3))\n",
    "        skip_connections.append(c4)\n",
    "        out = self.conv5(self.maxpool(c4))\n",
    "        out = self.bottleneck(out)\n",
    "        skip_connections = skip_connections[::-1]\n",
    "        out = self.tconv1(out)\n",
    "        if out.shape != skip_connections[0].shape:\n",
    "            out = TF.resize(out, size=skip_connections[0].shape[2:])\n",
    "        out = torch.cat([out, skip_connections[0]], dim=1)\n",
    "        out = self.conv6(out)\n",
    "\n",
    "        out = self.tconv2(out)\n",
    "        if out.shape != skip_connections[1].shape:\n",
    "            out = TF.resize(out, size=skip_connections[1].shape[2:])\n",
    "        out = torch.cat((out, skip_connections[1]), dim=1)\n",
    "        out = self.conv7(out)\n",
    "\n",
    "        out = self.tconv3(out)\n",
    "        if out.shape != skip_connections[2].shape:\n",
    "            out = TF.resize(out, size=skip_connections[2].shape[2:])\n",
    "        out = torch.cat((out, skip_connections[2]), dim=1)\n",
    "        out = self.conv8(out)\n",
    "\n",
    "        out = self.tconv4(out)\n",
    "        if out.shape != skip_connections[3].shape:\n",
    "            out = TF.resize(out, size=skip_connections[3].shape[2:])\n",
    "        out = torch.cat((out, skip_connections[3]), dim=1)\n",
    "        out = self.conv9(out)\n",
    "\n",
    "        out = self.out(out)\n",
    "        return out\n",
    "    \n",
    "\n",
    "\n"
   ]
  },
  {
   "cell_type": "code",
   "execution_count": null,
   "metadata": {},
   "outputs": [],
   "source": []
  },
  {
   "cell_type": "code",
   "execution_count": null,
   "metadata": {},
   "outputs": [],
   "source": []
  }
 ],
 "metadata": {
  "kernelspec": {
   "display_name": "base",
   "language": "python",
   "name": "python3"
  },
  "language_info": {
   "codemirror_mode": {
    "name": "ipython",
    "version": 3
   },
   "file_extension": ".py",
   "mimetype": "text/x-python",
   "name": "python",
   "nbconvert_exporter": "python",
   "pygments_lexer": "ipython3",
   "version": "3.10.11"
  },
  "orig_nbformat": 4
 },
 "nbformat": 4,
 "nbformat_minor": 2
}
