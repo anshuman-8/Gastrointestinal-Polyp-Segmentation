{
 "cells": [
  {
   "cell_type": "code",
   "execution_count": 2,
   "metadata": {},
   "outputs": [],
   "source": [
    "import os\n",
    "import torch\n",
    "import numpy as np\n",
    "import pandas as pd\n",
    "from glob import glob\n",
    "from torch.utils.data import DataLoader, Dataset\n",
    "import matplotlib.pyplot as plt\n",
    "%matplotlib inline"
   ]
  },
  {
   "cell_type": "code",
   "execution_count": 3,
   "metadata": {},
   "outputs": [
    {
     "name": "stdout",
     "output_type": "stream",
     "text": [
      "0\n",
      "0\n"
     ]
    }
   ],
   "source": [
    "Image_dir1 = '/home/jovyan/work/workspace/gastrointestinal-polyp-segmentation/data/Kvasir-SEG/images'\n",
    "Mask_dir1 = '/home/jovyan/work/workspace/gastrointestinal-polyp-segmentation/data/Kvasir-SEG/masks'\n",
    "img_files1 = os.listdir(Image_dir1)\n",
    "mask_files1 = os.listdir(Mask_dir1)\n",
    "print(len(img_files1))\n",
    "print(len(mask_files1))"
   ]
  },
  {
   "cell_type": "code",
   "execution_count": 4,
   "metadata": {},
   "outputs": [
    {
     "name": "stdout",
     "output_type": "stream",
     "text": [
      "0\n",
      "0\n"
     ]
    }
   ],
   "source": [
    "Image_dir2 = '/home/jovyan/work/workspace/gastrointestinal-polyp-segmentation/data/sessile-main-Kvasir-SEG/images'\n",
    "Mask_dir2 = '/home/jovyan/work/workspace/gastrointestinal-polyp-segmentation/data/sessile-main-Kvasir-SEG/masks'\n",
    "img_files2 = os.listdir(Image_dir2)\n",
    "mask_files2 = os.listdir(Mask_dir2)\n",
    "print(len(img_files2))\n",
    "print(len(mask_files2))"
   ]
  },
  {
   "cell_type": "code",
   "execution_count": 5,
   "metadata": {},
   "outputs": [],
   "source": [
    "train_dir = '/home/jovyan/work/workspace/gastrointestinal-polyp-segmentation/data/Kvasir-SEG'\n",
    "test_val_dir = '/home/jovyan/work/workspace/gastrointestinal-polyp-segmentation/data/sessile-main-Kvasir-SEG'\n",
    "\n",
    "for folder in ['train', 'test', 'val']:\n",
    "    os.makedirs(f'../data/{folder}/images', exist_ok=True)\n",
    "    os.makedirs(f'../data/{folder}/masks', exist_ok=True)\n",
    "\n",
    "# train\n",
    "for file in list(set(img_files1)&set(mask_files1)):\n",
    "    os.rename(f'{Image_dir1}/{file}', f'../data/train/images/{file}')\n",
    "    os.rename(f'{Mask_dir1}/{file}', f'../data/train/masks/{file}')\n",
    "\n",
    "test_Val_list = list(set(img_files2)&set(mask_files2))\n",
    "# test\n",
    "for file in test_Val_list[:int(len(test_Val_list)/2)]:\n",
    "    os.rename(f'{Image_dir2}/{file}', f'../data/test/images/{file}')\n",
    "    os.rename(f'{Mask_dir2}/{file}', f'../data/test/masks/{file}')\n",
    "\n",
    "# val\n",
    "for file in test_Val_list[int(len(test_Val_list)/2):]:\n",
    "    os.rename(f'{Image_dir2}/{file}', f'../data/val/images/{file}')\n",
    "    os.rename(f'{Mask_dir2}/{file}', f'../data/val/masks/{file}')\n",
    "    "
   ]
  },
  {
   "cell_type": "code",
   "execution_count": 6,
   "metadata": {},
   "outputs": [],
   "source": [
    "class PolypDataset(Dataset):\n",
    "    def __init__(self, image_dir, mask_dir, transform=None):\n",
    "        self.image_dir = image_dir\n",
    "        self.mask_dir = mask_dir\n",
    "        self.transform = transform\n",
    "        self.images = os.listdir(image_dir)\n",
    "        self.masks = os.listdir(mask_dir)\n",
    "\n",
    "    def __len__(self):\n",
    "        return len(self.images)\n",
    "    \n",
    "    def __getitem__(self, index):\n",
    "        img_path = os.path.join(self.image_dir, self.images[index])\n",
    "        mask_path = os.path.join(self.mask_dir, self.masks[index])\n",
    "        image = np.array(plt.imread(img_path))\n",
    "        mask = np.array(plt.imread(mask_path))\n",
    "        mask[mask > 0] = 1\n",
    "        if self.transform is not None:\n",
    "            augmentations = self.transform(image=image, mask=mask)\n",
    "            image = augmentations['image']\n",
    "            mask = augmentations['mask']\n",
    "        return image, mask"
   ]
  },
  {
   "cell_type": "code",
   "execution_count": 7,
   "metadata": {},
   "outputs": [],
   "source": [
    "train_loader = DataLoader(\n",
    "    PolypDataset('../data/train/images', '../data/train/masks'),\n",
    "    batch_size=8,\n",
    "    shuffle=True,\n",
    "    num_workers=4,\n",
    "    \n",
    ")"
   ]
  },
  {
   "cell_type": "code",
   "execution_count": null,
   "metadata": {},
   "outputs": [],
   "source": []
  }
 ],
 "metadata": {
  "kernelspec": {
   "display_name": "base",
   "language": "python",
   "name": "python3"
  },
  "language_info": {
   "codemirror_mode": {
    "name": "ipython",
    "version": 3
   },
   "file_extension": ".py",
   "mimetype": "text/x-python",
   "name": "python",
   "nbconvert_exporter": "python",
   "pygments_lexer": "ipython3",
   "version": "3.10.11"
  },
  "orig_nbformat": 4
 },
 "nbformat": 4,
 "nbformat_minor": 2
}
